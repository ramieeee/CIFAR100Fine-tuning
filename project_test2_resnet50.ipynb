{
  "nbformat": 4,
  "nbformat_minor": 0,
  "metadata": {
    "colab": {
      "provenance": []
    },
    "kernelspec": {
      "name": "python3",
      "display_name": "Python 3"
    },
    "language_info": {
      "name": "python"
    },
    "gpuClass": "standard",
    "accelerator": "GPU"
  },
  "cells": [
    {
      "cell_type": "code",
      "source": [
        "from tensorflow.keras.applications.resnet50 import ResNet50\n",
        "from tensorflow.keras.preprocessing import image\n",
        "from tensorflow.keras.applications.resnet50 import decode_predictions\n",
        "from tensorflow.keras.applications.resnet50 import preprocess_input\n",
        "import numpy as np"
      ],
      "metadata": {
        "id": "_aFKtzNeR4C3"
      },
      "execution_count": 35,
      "outputs": []
    },
    {
      "cell_type": "code",
      "source": [
        "import tensorflow as tf"
      ],
      "metadata": {
        "id": "wFwa-qLVCohp"
      },
      "execution_count": 36,
      "outputs": []
    },
    {
      "cell_type": "code",
      "source": [
        "##### 전이학습 시작 #####"
      ],
      "metadata": {
        "id": "n088pwGn-TdV"
      },
      "execution_count": 37,
      "outputs": []
    },
    {
      "cell_type": "code",
      "source": [
        "(train_images_raw, train_labels_raw), (test_images, test_labels) = tf.keras.datasets.cifar100.load_data(label_mode='coarse')"
      ],
      "metadata": {
        "id": "oUcBM8olht4P"
      },
      "execution_count": 38,
      "outputs": []
    },
    {
      "cell_type": "code",
      "source": [
        "def preprocess_image_input(input_images):\n",
        "  input_images = input_images.astype('float32')\n",
        "  output_images = preprocess_input(input_images)\n",
        "  return output_images"
      ],
      "metadata": {
        "id": "ab2UPPHbBv0-"
      },
      "execution_count": 39,
      "outputs": []
    },
    {
      "cell_type": "code",
      "source": [
        "train_images = train_images_raw[:45000]\n",
        "train_labels = train_labels_raw[:45000]"
      ],
      "metadata": {
        "id": "AD0rHyVgt-9-"
      },
      "execution_count": 40,
      "outputs": []
    },
    {
      "cell_type": "code",
      "source": [
        "valid_images = train_images_raw[40000:]\n",
        "valid_labels = train_labels_raw[40000:]"
      ],
      "metadata": {
        "id": "Ll2LJzkmuM79"
      },
      "execution_count": 41,
      "outputs": []
    },
    {
      "cell_type": "code",
      "source": [
        "train_X = preprocess_image_input(train_images)\n",
        "valid_X = preprocess_image_input(valid_images)"
      ],
      "metadata": {
        "id": "DTuazxYKCDBy"
      },
      "execution_count": 43,
      "outputs": []
    },
    {
      "cell_type": "code",
      "source": [
        "feature_extractor = tf.keras.applications.resnet.ResNet50(input_shape=(224,224,3),\n",
        "                                                include_top=False,\n",
        "                                                weights='imagenet')"
      ],
      "metadata": {
        "id": "Q7yeMUu_CK80"
      },
      "execution_count": 44,
      "outputs": []
    },
    {
      "cell_type": "code",
      "source": [
        "feature_extractor.trainable = True"
      ],
      "metadata": {
        "id": "kgVc40wbCZCr"
      },
      "execution_count": 45,
      "outputs": []
    },
    {
      "cell_type": "code",
      "source": [
        "inputs = tf.keras.Input(shape=(32, 32, 3))\n",
        "x = tf.keras.layers.UpSampling2D(size=(7,7))(inputs)\n",
        "x = feature_extractor(x)\n",
        "x = tf.keras.layers.GlobalAveragePooling2D()(x)\n",
        "x = tf.keras.layers.Dense(1024, activation=\"relu\")(x)\n",
        "x = tf.keras.layers.Dense(512, activation=\"relu\")(x)\n",
        "# output classification count: 20\n",
        "outputs = tf.keras.layers.Dense(20, activation=\"softmax\", name=\"classification\")(x)"
      ],
      "metadata": {
        "id": "3Krc2-TnCiSP"
      },
      "execution_count": 46,
      "outputs": []
    },
    {
      "cell_type": "code",
      "source": [
        "model = tf.keras.Model(inputs=inputs, outputs=outputs)"
      ],
      "metadata": {
        "id": "cfz2cm5gDgzs"
      },
      "execution_count": 47,
      "outputs": []
    },
    {
      "cell_type": "code",
      "source": [
        "model.compile(optimizer=tf.keras.optimizers.SGD(),\n",
        "              loss=tf.keras.losses.SparseCategoricalCrossentropy(),\n",
        "              metrics=['accuracy'])"
      ],
      "metadata": {
        "id": "K5tEeVQMnZ7T"
      },
      "execution_count": 48,
      "outputs": []
    },
    {
      "cell_type": "code",
      "source": [
        "model.summary()"
      ],
      "metadata": {
        "colab": {
          "base_uri": "https://localhost:8080/"
        },
        "id": "18h6EvG_mbEN",
        "outputId": "2472a2e4-a84e-437d-e3aa-4549765ad900"
      },
      "execution_count": 49,
      "outputs": [
        {
          "output_type": "stream",
          "name": "stdout",
          "text": [
            "Model: \"model_1\"\n",
            "_________________________________________________________________\n",
            " Layer (type)                Output Shape              Param #   \n",
            "=================================================================\n",
            " input_5 (InputLayer)        [(None, 32, 32, 3)]       0         \n",
            "                                                                 \n",
            " up_sampling2d_1 (UpSampling  (None, 224, 224, 3)      0         \n",
            " 2D)                                                             \n",
            "                                                                 \n",
            " resnet50 (Functional)       (None, 7, 7, 2048)        23587712  \n",
            "                                                                 \n",
            " global_average_pooling2d_1   (None, 2048)             0         \n",
            " (GlobalAveragePooling2D)                                        \n",
            "                                                                 \n",
            " dense_2 (Dense)             (None, 1024)              2098176   \n",
            "                                                                 \n",
            " dense_3 (Dense)             (None, 512)               524800    \n",
            "                                                                 \n",
            " classification (Dense)      (None, 20)                10260     \n",
            "                                                                 \n",
            "=================================================================\n",
            "Total params: 26,220,948\n",
            "Trainable params: 26,167,828\n",
            "Non-trainable params: 53,120\n",
            "_________________________________________________________________\n"
          ]
        }
      ]
    },
    {
      "cell_type": "code",
      "source": [
        "EPOCHS = 5\n",
        "\n",
        "history = model.fit(train_X, train_labels, epochs=EPOCHS,\n",
        "                    validation_data=(valid_X, valid_labels), batch_size=100, shuffle=True)"
      ],
      "metadata": {
        "colab": {
          "base_uri": "https://localhost:8080/"
        },
        "id": "lrz_TKHjn4La",
        "outputId": "1f1a9714-0b5b-47d5-c5bc-2ed0d64d647e"
      },
      "execution_count": 50,
      "outputs": [
        {
          "output_type": "stream",
          "name": "stdout",
          "text": [
            "Epoch 1/5\n",
            "450/450 [==============================] - 477s 1s/step - loss: 1.1409 - accuracy: 0.6552 - val_loss: 0.6189 - val_accuracy: 0.8031\n",
            "Epoch 2/5\n",
            "450/450 [==============================] - 479s 1s/step - loss: 0.4179 - accuracy: 0.8656 - val_loss: 0.3640 - val_accuracy: 0.8853\n",
            "Epoch 3/5\n",
            "450/450 [==============================] - 480s 1s/step - loss: 0.2056 - accuracy: 0.9371 - val_loss: 0.2872 - val_accuracy: 0.9154\n",
            "Epoch 4/5\n",
            "450/450 [==============================] - 479s 1s/step - loss: 0.0912 - accuracy: 0.9780 - val_loss: 0.2623 - val_accuracy: 0.9241\n",
            "Epoch 5/5\n",
            "450/450 [==============================] - 479s 1s/step - loss: 0.0417 - accuracy: 0.9922 - val_loss: 0.2584 - val_accuracy: 0.9300\n"
          ]
        }
      ]
    },
    {
      "cell_type": "code",
      "source": [
        "test_images = preprocess_image_input(test_images)\n",
        "results = model.evaluate(test_images, test_labels)\n",
        "test = model.predict(test_images)\n",
        "print(results[1])"
      ],
      "metadata": {
        "id": "L1mHImUioEn3",
        "colab": {
          "base_uri": "https://localhost:8080/"
        },
        "outputId": "ce151fa7-8767-465a-afc1-1a54db81fde0"
      },
      "execution_count": 51,
      "outputs": [
        {
          "output_type": "stream",
          "name": "stdout",
          "text": [
            "313/313 [==============================] - 30s 94ms/step - loss: 0.4666 - accuracy: 0.8662\n",
            "313/313 [==============================] - 30s 95ms/step\n",
            "0.8661999702453613\n"
          ]
        }
      ]
    },
    {
      "cell_type": "code",
      "source": [
        "import matplotlib.pyplot as plt\n",
        "\n",
        "plt.plot(history.history['accuracy'])\n",
        "plt.plot(history.history['val_accuracy'])\n",
        "plt.title('Test 2')\n",
        "plt.ylabel('Accuracy')\n",
        "plt.xlabel('Epochs')\n",
        "plt.legend(['train','validation'])\n",
        "plt.grid()\n",
        "plt.show()"
      ],
      "metadata": {
        "id": "9PXKZNZ2pvJk",
        "colab": {
          "base_uri": "https://localhost:8080/",
          "height": 295
        },
        "outputId": "df8d1b18-155d-4c54-9705-2f324ce042a0"
      },
      "execution_count": 52,
      "outputs": [
        {
          "output_type": "display_data",
          "data": {
            "text/plain": [
              "<Figure size 432x288 with 1 Axes>"
            ],
            "image/png": "[encoded data removed]"
          },
          "metadata": {
            "needs_background": "light"
          }
        }
      ]
    },
    {
      "cell_type": "code",
      "source": [],
      "metadata": {
        "id": "E6fKvLP6pwfb"
      },
      "execution_count": null,
      "outputs": []
    }
  ]
}